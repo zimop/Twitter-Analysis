{
 "cells": [
  {
   "cell_type": "markdown",
   "metadata": {},
   "source": [
    "##### The University of Melbourne, School of Computing and Information Systems\n",
    "# COMP30027 Machine Learning, 2022 Semester 1\n",
    "\n",
    "## Assignment 2: Sentiment Classification of Tweets\n",
    "\n",
    "This is a sample code to assist you with vectorising the 'Train' dataset for your assignment 2.\n",
    "\n",
    "First we read the CSV datafiles (Train and Test)."
   ]
  },
  {
   "cell_type": "code",
   "execution_count": 275,
   "metadata": {},
   "outputs": [
    {
     "name": "stdout",
     "output_type": "stream",
     "text": [
      "(21802, 4)\n"
     ]
    }
   ],
   "source": [
    "import pandas as pd\n",
    "import re\n",
    "import numpy as np\n",
    "import contractions\n",
    "from nltk.corpus import stopwords\n",
    "POSITIVE = 0\n",
    "NEUTRAL = 1\n",
    "NEGATIVE = 2\n",
    "\n",
    "\n",
    "train_data = pd.read_csv(\"Train.csv\", sep=',')\n",
    "\n",
    "print(train_data.shape)\n",
    "test_data = pd.read_csv(\"Test.csv\", sep=',')"
   ]
  },
  {
   "cell_type": "code",
   "execution_count": null,
   "metadata": {},
   "outputs": [],
   "source": []
  },
  {
   "cell_type": "markdown",
   "metadata": {},
   "source": [
    "Then we separate the tweet text and the label (sentiment). "
   ]
  },
  {
   "cell_type": "code",
   "execution_count": 276,
   "metadata": {},
   "outputs": [
    {
     "name": "stdout",
     "output_type": "stream",
     "text": [
      "Train length: 21802\n",
      "Test length: 6099\n"
     ]
    }
   ],
   "source": [
    "from gensim.parsing.preprocessing import remove_stopwords\n",
    "\n",
    "#separating instance and label for Train, remove the stop words\n",
    "\n",
    "X_train_raw = [x[0] for x in train_data[['text']].values]\n",
    "Y_train = [x[0] for x in train_data[['sentiment']].values]\n",
    "\n",
    "#check the result\n",
    "print(\"Train length:\",len(X_train_raw))\n",
    "\n",
    "#separating instance and label for Test\n",
    "X_test_raw = [x[0] for x in test_data[['text']].values]\n",
    "\n",
    "#check the result\n",
    "print(\"Test length:\",len(X_test_raw))"
   ]
  },
  {
   "cell_type": "code",
   "execution_count": 277,
   "metadata": {},
   "outputs": [
    {
     "name": "stdout",
     "output_type": "stream",
     "text": [
      " i just found out naruto didn't become the 5th hokage....\t\n"
     ]
    }
   ],
   "source": [
    "#Let's see one example tweet\n",
    "print(X_train_raw[2])"
   ]
  },
  {
   "cell_type": "code",
   "execution_count": null,
   "metadata": {},
   "outputs": [],
   "source": []
  },
  {
   "cell_type": "code",
   "execution_count": 296,
   "metadata": {},
   "outputs": [],
   "source": [
    "#clean the data of links, tags, numbers, change all to lowercase, and finally removing stop words as well\n",
    "from nltk.stem import WordNetLemmatizer\n",
    "from nltk.tokenize import word_tokenize\n",
    "lemmatizer = WordNetLemmatizer()\n",
    "stop_words = set(stopwords.words('english'))\n",
    "stop_words.remove('not')\n",
    "#print(stop_words)\n",
    "def clean_data(raw_data):\n",
    "    for num in range(len(raw_data)):\n",
    "        #remove all links\n",
    "        raw_data[num] = re.sub(r'\\w+:\\/\\/(www\\.)?[-a-zA-Z0-9@:%._\\+~#=]{1,256}\\.[a-zA-Z0-9()]{1,6}\\b([-a-zA-Z0-9()@:%_\\+.~#?&\\/\\/=]*)', '', raw_data[num])\n",
    "        #remove all tags\n",
    "        raw_data[num] = re.sub(r'@\\S+', '', raw_data[num])\n",
    "        #Lowercase everything\n",
    "        raw_data[num] = raw_data[num].lower();\n",
    "        #fix all the contractions and expand them\n",
    "        raw_data[num] = contractions.fix(raw_data[num])\n",
    "        #removes all numbers and the string that follows it\n",
    "        raw_data[num] = re.sub(r'\\d+\\S+\\s', '', raw_data[num])\n",
    "        #tokenizes every word\n",
    "        tokenized_words = word_tokenize(raw_data[num])\n",
    "        tweet = \"\"\n",
    "        #for loop removes stop words and lemmatizes words ( also takes out the rest of the digits)\n",
    "        for word in tokenized_words:\n",
    "            if word not in stop_words:\n",
    "                if not word.isdigit():\n",
    "                    tweet = tweet + \" \" + lemmatizer.lemmatize(word)\n",
    "        raw_data[num] = tweet\n",
    "    return raw_data\n",
    "    \n",
    "X_train_raw = clean_data(X_train_raw)\n",
    "X_test_raw = clean_data(X_test_raw)\n"
   ]
  },
  {
   "cell_type": "markdown",
   "metadata": {},
   "source": [
    "### 1. Bag of Words (BoW)\n",
    "In this approach, we use the **CountVectorizer** library to separate all the words in the Train corpus (dataset). These words are then used as the 'vectors' or 'features' to represent each instance (Tweet) in `Train` and `Test` datasets. "
   ]
  },
  {
   "cell_type": "code",
   "execution_count": 279,
   "metadata": {},
   "outputs": [
    {
     "name": "stdout",
     "output_type": "stream",
     "text": [
      "Train feature space size (using BoW): (21802, 24597)\n",
      "Test feature space size (using BoW): (6099, 24597)\n"
     ]
    }
   ],
   "source": [
    "from sklearn.feature_extraction.text import CountVectorizer\n",
    "import re\n",
    "\n",
    "BoW_vectorizer = CountVectorizer()\n",
    "\n",
    "#Build the feature set (vocabulary) and vectorise the Tarin dataset using BoW\n",
    "X_train_BoW = BoW_vectorizer.fit_transform(X_train_raw)\n",
    "\n",
    "#Use the feature set (vocabulary) from Train to vectorise the Test dataset \n",
    "X_test_BoW = BoW_vectorizer.transform(X_test_raw)\n",
    "\n",
    "print(\"Train feature space size (using BoW):\",X_train_BoW.shape)\n",
    "print(\"Test feature space size (using BoW):\",X_test_BoW.shape)"
   ]
  },
  {
   "cell_type": "markdown",
   "metadata": {},
   "source": [
    "Now each row is a list of tuples with the vector_id (word_id in the vocabulary) and the number of times it repeated in that given instance (tweet)."
   ]
  },
  {
   "cell_type": "code",
   "execution_count": 280,
   "metadata": {},
   "outputs": [],
   "source": [
    "#Let's see one example tweet using the BoW feature space\n"
   ]
  },
  {
   "cell_type": "markdown",
   "metadata": {},
   "source": [
    "We can save the created vocabulary for the given dataset in a separate file."
   ]
  },
  {
   "cell_type": "code",
   "execution_count": 281,
   "metadata": {},
   "outputs": [
    {
     "name": "stdout",
     "output_type": "stream",
     "text": [
      "             word  count\n",
      "0          doctor   6076\n",
      "1             hit   9797\n",
      "2        campaign   3236\n",
      "3           trail  21841\n",
      "4            race  17073\n",
      "...           ...    ...\n",
      "24592      unquit  22555\n",
      "24593       vemma  22850\n",
      "24594   uabblazer  22245\n",
      "24595  blazerlife   2443\n",
      "24596      djoker   6051\n",
      "\n",
      "[24597 rows x 2 columns]\n"
     ]
    }
   ],
   "source": [
    "output_dict = BoW_vectorizer.vocabulary_\n",
    "output_pd = pd.DataFrame(list(output_dict.items()),columns = ['word','count'])\n",
    "print(output_pd)\n",
    "\n",
    "output_pd.T.to_csv('BoW-vocab.csv',index=False)"
   ]
  },
  {
   "cell_type": "markdown",
   "metadata": {},
   "source": [
    "### 2. TFIDF\n",
    "In this approach, we use the **TfidfVectorizer** library to separate all the words in this corpus (dataset). Same as the BoW approach, these words are then used as the 'vectors' or 'features' to represent each instance (Tweet).\n",
    "\n",
    "However, in this method for each instance the value associated with each 'vector' (word) is not the number of times the word repeated in that tweet, but the TFIDF value of then 'voctor' (word)."
   ]
  },
  {
   "cell_type": "code",
   "execution_count": 282,
   "metadata": {},
   "outputs": [
    {
     "name": "stdout",
     "output_type": "stream",
     "text": [
      "Train feature space size (using TFIDF): (21802, 24597)\n",
      "Test feature space size (using TFIDF): (6099, 24597)\n"
     ]
    }
   ],
   "source": [
    "from sklearn.feature_extraction.text import TfidfVectorizer\n",
    "\n",
    "tfidf_vectorizer = TfidfVectorizer()\n",
    "\n",
    "#Build the feature set (vocabulary) and vectorise the Tarin dataset using TFIDF\n",
    "X_train_tfidf = tfidf_vectorizer.fit_transform(X_train_raw)\n",
    "\n",
    "#Use the feature set (vocabulary) from Train to vectorise the Test dataset \n",
    "X_test_tfidf = tfidf_vectorizer.transform(X_test_raw)\n",
    "\n",
    "print(\"Train feature space size (using TFIDF):\",X_train_tfidf.shape)\n",
    "print(\"Test feature space size (using TFIDF):\",X_test_tfidf.shape)"
   ]
  },
  {
   "cell_type": "code",
   "execution_count": 283,
   "metadata": {},
   "outputs": [
    {
     "name": "stdout",
     "output_type": "stream",
     "text": [
      "  (0, 13293)\t0.2693636793762146\n",
      "  (0, 8227)\t0.4301456554221557\n",
      "  (0, 14439)\t0.1926589062616687\n",
      "  (0, 12864)\t0.2008347513221319\n",
      "  (0, 12340)\t0.17556328738250698\n",
      "  (0, 23813)\t0.19346713652054132\n",
      "  (0, 8780)\t0.19026228040231222\n",
      "  (0, 13154)\t0.14056651258828376\n",
      "  (0, 8225)\t0.25561297168016944\n",
      "  (0, 19113)\t0.2502007392400643\n",
      "  (0, 18851)\t0.17879887087394603\n",
      "  (0, 21708)\t0.1482764280495574\n",
      "  (0, 20213)\t0.354711752603426\n",
      "  (0, 17094)\t0.31142282300372714\n",
      "  (0, 8835)\t0.1728242644741559\n",
      "  (0, 995)\t0.32586657729298196\n",
      "\n",
      "   (0, 9888)\t0.2966667797874055\n",
      "  (0, 9579)\t0.3650497016090329\n",
      "  (0, 6658)\t0.2649464379874365\n",
      "  (0, 4700)\t0.35884912847235273\n",
      "  (0, 13272)\t0.28969365171948047\n",
      "  (0, 17073)\t0.306680872591609\n",
      "  (0, 21841)\t0.36183859614200964\n",
      "  (0, 3236)\t0.3075562578171201\n",
      "  (0, 9797)\t0.24838142724779394\n",
      "  (0, 6076)\t0.338483826608996\n"
     ]
    }
   ],
   "source": [
    "#Let's see one example tweet using the TFIDF feature space\n",
    "print(X_train_tfidf[1])\n",
    "print('\\n',X_train_tfidf[0])"
   ]
  },
  {
   "cell_type": "code",
   "execution_count": 284,
   "metadata": {},
   "outputs": [],
   "source": [
    "#cross validation library:\n",
    "from sklearn.model_selection import cross_val_score\n",
    "from sklearn.model_selection import cross_validate\n",
    "from sklearn.metrics import recall_score\n",
    "from sklearn import metrics\n"
   ]
  },
  {
   "cell_type": "code",
   "execution_count": 285,
   "metadata": {},
   "outputs": [],
   "source": [
    "#functions for classifiers\n",
    "import seaborn as sns\n",
    "import matplotlib.pyplot as plt\n",
    "sns.set_theme(style=\"ticks\", color_codes=True)\n",
    "classifier_list = ['MNB','MNB', 'SVM', 'SVM', 'Logistic Regression', 'Logistic Regression']\n",
    "vectorization_list = ['Bag of Words', 'TF-IDF']*3\n",
    "\n",
    "f1_score_list = []\n",
    "precision_score_list = []\n",
    "recall_score_list = []\n",
    "\n",
    "#Applys the classifier to the given data and predicts the labels of the test data\n",
    "def clfrs(clf, X_train_data, X_test_data, Y_train_data):\n",
    "    clf.fit(X_train_data, Y_train)\n",
    "    y_pred = clf.predict(X_test_data)\n",
    "    return y_pred\n",
    "\n",
    "#Creates the necessary csv file that can pass submission on Kaggle\n",
    "def csv_transformer(y_pred, name, test_data):\n",
    "    sentiments = pd.DataFrame(test_data['id'])\n",
    "    sentiments['sentiment'] = y_pred\n",
    "    sentiments.to_csv(name, index = False)\n",
    "    \n",
    "def average(scores):\n",
    "    average_scores = (sum(scores))/len(scores)\n",
    "    return average_scores\n",
    "  \n",
    "#Adds scores to a dictionary which we will later use for plotting\n",
    "def addScores(scores, f1, precision, recall):\n",
    "    f1.append(average(scores['test_f1_macro']))\n",
    "    precision.append(average(scores['test_precision_macro']))\n",
    "    recall.append(average(scores['test_recall_macro']))\n"
   ]
  },
  {
   "cell_type": "code",
   "execution_count": 295,
   "metadata": {},
   "outputs": [],
   "source": [
    "#Implement 0-R baseline\n",
    "from sklearn.dummy import DummyClassifier\n",
    "dummy_clf = DummyClassifier(strategy=\"most_frequent\")\n",
    "y_pred_dummy= clfrs(dummy_clf, X_train_raw, X_test_raw, Y_train)\n",
    "csv_transformer(y_pred_dummy, 'Zero_R_BoW.csv', test_data)\n",
    "\n",
    "\n",
    "#implemented this baseline, because it makes up > 0.5 of the data, so could be accurate"
   ]
  },
  {
   "cell_type": "code",
   "execution_count": 244,
   "metadata": {},
   "outputs": [],
   "source": [
    "#Implement Naive bayes classifier:\n",
    "import sklearn.naive_bayes as nb\n",
    "from sklearn.naive_bayes import MultinomialNB\n",
    "mnb = MultinomialNB()\n",
    "MNB_F1scores_BoW = cross_validate(mnb, X_train_BoW, Y_train, cv=10, scoring=['f1_macro', 'precision_macro', 'recall_macro'])\n",
    "y_pred_NB_BoW = clfrs(mnb, X_train_BoW, X_test_BoW, Y_train)\n",
    "csv_transformer(y_pred_NB_BoW, 'MNB_BoW.csv', test_data)\n",
    "\n",
    "MNB_F1scores_tfidf = cross_validate(mnb, X_train_tfidf, Y_train, cv=10, scoring=['f1_macro', 'precision_macro', 'recall_macro'])\n",
    "y_pred_NB_tfidf = clfrs(mnb, X_train_tfidf, X_test_tfidf, Y_train)\n",
    "csv_transformer(y_pred_NB_tfidf, 'MNB_tfidf.csv', test_data)\n"
   ]
  },
  {
   "cell_type": "code",
   "execution_count": 245,
   "metadata": {},
   "outputs": [],
   "source": [
    "\n",
    "addScores(MNB_F1scores_BoW, f1_score_list, precision_score_list, recall_score_list)\n",
    "addScores(MNB_F1scores_tfidf, f1_score_list, precision_score_list, recall_score_list)"
   ]
  },
  {
   "cell_type": "code",
   "execution_count": 246,
   "metadata": {},
   "outputs": [],
   "source": [
    "#Implement SVM classifier\n",
    "from sklearn import svm\n",
    "clf = svm.LinearSVC()\n",
    "SVM_F1scores_BoW = cross_validate(clf, X_train_BoW, Y_train, cv=10, scoring=['f1_macro', 'precision_macro', 'recall_macro'])\n",
    "y_pred_SVM_BoW = clfrs(clf, X_train_BoW, X_test_BoW, Y_train)\n",
    "csv_transformer(y_pred_SVM_BoW, 'LinearSVM_BoW.csv', test_data)\n",
    "\n",
    "SVM_F1scores_tfidf = cross_validate(clf, X_train_tfidf, Y_train, cv=10, scoring=['f1_macro', 'precision_macro', 'recall_macro'])\n",
    "y_pred_SVM_tfidf = clfrs(clf, X_train_tfidf, X_test_tfidf, Y_train)\n",
    "csv_transformer(y_pred_SVM_tfidf, 'LinearSVM_tfidf.csv', test_data)\n"
   ]
  },
  {
   "cell_type": "code",
   "execution_count": 247,
   "metadata": {},
   "outputs": [],
   "source": [
    "addScores(SVM_F1scores_BoW, f1_score_list, precision_score_list, recall_score_list)\n",
    "addScores(SVM_F1scores_tfidf, f1_score_list, precision_score_list, recall_score_list)\n"
   ]
  },
  {
   "cell_type": "code",
   "execution_count": 248,
   "metadata": {},
   "outputs": [],
   "source": [
    "#Implement the Logistic Regression classifier\n",
    "from sklearn.linear_model import LogisticRegression\n",
    "clf = LogisticRegression(max_iter = 40000, multi_class = 'multinomial')\n",
    "LogReg_F1scores_BoW = cross_validate(clf, X_train_BoW, Y_train, cv=10, scoring=['f1_macro', 'precision_macro', 'recall_macro'])\n",
    "y_pred_LogReg_BoW = clfrs(clf, X_train_BoW, X_test_BoW, Y_train)\n",
    "csv_transformer(y_pred_LogReg_BoW, 'LogisticRegression_BoW.csv', test_data)\n",
    "\n",
    "LogReg_F1scores_tfidf = cross_validate(clf, X_train_tfidf, Y_train, cv=10, scoring=['f1_macro', 'precision_macro', 'recall_macro'])\n",
    "y_pred_LogReg_tfidf = clfrs(clf, X_train_tfidf, X_test_tfidf, Y_train)\n",
    "csv_transformer(y_pred_LogReg_tfidf, 'LogisticRegression_tfidf.csv', test_data)"
   ]
  },
  {
   "cell_type": "code",
   "execution_count": 249,
   "metadata": {},
   "outputs": [],
   "source": [
    "addScores(LogReg_F1scores_BoW, f1_score_list, precision_score_list, recall_score_list)\n",
    "addScores(LogReg_F1scores_tfidf, f1_score_list, precision_score_list, recall_score_list)"
   ]
  },
  {
   "cell_type": "code",
   "execution_count": 271,
   "metadata": {},
   "outputs": [
    {
     "name": "stdout",
     "output_type": "stream",
     "text": [
      "           Classifiers Vectorization Method        f1  precision    recall  \\\n",
      "0                  MNB         Bag of Words  0.578480   0.583170  0.575303   \n",
      "1                  MNB               TF-IDF  0.344189   0.709599  0.382057   \n",
      "2                  SVM         Bag of Words  0.561988   0.574184  0.553677   \n",
      "3                  SVM               TF-IDF  0.575672   0.620468  0.554597   \n",
      "4  Logistic Regression         Bag of Words  0.582393   0.621722  0.562459   \n",
      "5  Logistic Regression               TF-IDF  0.545083   0.663907  0.518320   \n",
      "\n",
      "   accuracy  \n",
      "0   0.57523  \n",
      "1   0.39729  \n",
      "2   0.55432  \n",
      "3   0.57236  \n",
      "4   0.57113  \n",
      "5   0.54899  \n"
     ]
    },
    {
     "data": {
      "image/png": "[encoded data removed]",
      "text/plain": [
       "<Figure size 480.8x360 with 1 Axes>"
      ]
     },
     "metadata": {},
     "output_type": "display_data"
    },
    {
     "data": {
      "image/png": "[encoded data removed]",
      "text/plain": [
       "<Figure size 480.8x360 with 1 Axes>"
      ]
     },
     "metadata": {},
     "output_type": "display_data"
    },
    {
     "data": {
      "image/png": "[encoded data removed]",
      "text/plain": [
       "<Figure size 480.8x360 with 1 Axes>"
      ]
     },
     "metadata": {},
     "output_type": "display_data"
    },
    {
     "data": {
      "image/png": "[encoded data removed]",
      "text/plain": [
       "<Figure size 480.8x360 with 1 Axes>"
      ]
     },
     "metadata": {},
     "output_type": "display_data"
    }
   ],
   "source": [
    "#create all the graphs necessary for plots using seaborn\n",
    "import matplotlib.pyplot as plt\n",
    "accuracy_kaggle = [0.57523, 0.39729, 0.55432, 0.57236, 0.57113, 0.54899]\n",
    "graph_DF = pd.DataFrame({\"Classifiers\" : classifier_list, \"Vectorization Method\": vectorization_list, \"f1\": f1_score_list, \"precision\"\n",
    "                         : precision_score_list, \"recall\": recall_score_list, \"accuracy\": accuracy_kaggle})\n",
    "\n",
    "sns.catplot(x = \"Classifiers\", y = \"f1\", hue = \"Vectorization Method\", data = graph_DF)\n",
    "plt.ylim(0.30, 0.75)\n",
    "plt.savefig('f1_plot.png')\n",
    "sns.catplot(x = \"Classifiers\", y = \"precision\", hue = \"Vectorization Method\", data = graph_DF)\n",
    "plt.ylim(0.30, 0.75)\n",
    "plt.savefig('precision_plot.png')\n",
    "sns.catplot(x = \"Classifiers\", y = \"recall\", hue = \"Vectorization Method\", data = graph_DF)\n",
    "plt.ylim(0.30, 0.75)\n",
    "plt.savefig('recall_plot.png')\n",
    "sns.catplot(x = \"Classifiers\", y = \"accuracy\", hue = \"Vectorization Method\", data = graph_DF)\n",
    "plt.ylim(0.30, 0.75)\n",
    "plt.savefig('accuracy_plot.png')"
   ]
  },
  {
   "cell_type": "code",
   "execution_count": 291,
   "metadata": {},
   "outputs": [],
   "source": [
    "import numpy as np\n",
    "from sklearn.dummy import DummyClassifier\n",
    "dummy_clf = DummyClassifier(strategy=\"most_frequent\")\n",
    "dummy_scores = cross_validate(dummy_clf, X_train_raw, Y_train, cv=10, scoring=['f1_macro', 'precision_macro', 'recall_macro'])\n",
    "y_pred_dummy= clfrs(dummy_clf, X_train_raw, X_test_raw, Y_train)\n",
    "csv_transformer(y_pred_dummy, 'Zero_R_BoW.csv', test_data)\n"
   ]
  },
  {
   "cell_type": "code",
   "execution_count": 274,
   "metadata": {},
   "outputs": [
    {
     "name": "stdout",
     "output_type": "stream",
     "text": [
      "{'data': array([[ 0.03807591,  0.05068012,  0.06169621, ..., -0.00259226,\n",
      "         0.01990842, -0.01764613],\n",
      "       [-0.00188202, -0.04464164, -0.05147406, ..., -0.03949338,\n",
      "        -0.06832974, -0.09220405],\n",
      "       [ 0.08529891,  0.05068012,  0.04445121, ..., -0.00259226,\n",
      "         0.00286377, -0.02593034],\n",
      "       ...,\n",
      "       [ 0.04170844,  0.05068012, -0.01590626, ..., -0.01107952,\n",
      "        -0.04687948,  0.01549073],\n",
      "       [-0.04547248, -0.04464164,  0.03906215, ...,  0.02655962,\n",
      "         0.04452837, -0.02593034],\n",
      "       [-0.04547248, -0.04464164, -0.0730303 , ..., -0.03949338,\n",
      "        -0.00421986,  0.00306441]]), 'target': array([151.,  75., 141., 206., 135.,  97., 138.,  63., 110., 310., 101.,\n",
      "        69., 179., 185., 118., 171., 166., 144.,  97., 168.,  68.,  49.,\n",
      "        68., 245., 184., 202., 137.,  85., 131., 283., 129.,  59., 341.,\n",
      "        87.,  65., 102., 265., 276., 252.,  90., 100.,  55.,  61.,  92.,\n",
      "       259.,  53., 190., 142.,  75., 142., 155., 225.,  59., 104., 182.,\n",
      "       128.,  52.,  37., 170., 170.,  61., 144.,  52., 128.,  71., 163.,\n",
      "       150.,  97., 160., 178.,  48., 270., 202., 111.,  85.,  42., 170.,\n",
      "       200., 252., 113., 143.,  51.,  52., 210.,  65., 141.,  55., 134.,\n",
      "        42., 111.,  98., 164.,  48.,  96.,  90., 162., 150., 279.,  92.,\n",
      "        83., 128., 102., 302., 198.,  95.,  53., 134., 144., 232.,  81.,\n",
      "       104.,  59., 246., 297., 258., 229., 275., 281., 179., 200., 200.,\n",
      "       173., 180.,  84., 121., 161.,  99., 109., 115., 268., 274., 158.,\n",
      "       107.,  83., 103., 272.,  85., 280., 336., 281., 118., 317., 235.,\n",
      "        60., 174., 259., 178., 128.,  96., 126., 288.,  88., 292.,  71.,\n",
      "       197., 186.,  25.,  84.,  96., 195.,  53., 217., 172., 131., 214.,\n",
      "        59.,  70., 220., 268., 152.,  47.,  74., 295., 101., 151., 127.,\n",
      "       237., 225.,  81., 151., 107.,  64., 138., 185., 265., 101., 137.,\n",
      "       143., 141.,  79., 292., 178.,  91., 116.,  86., 122.,  72., 129.,\n",
      "       142.,  90., 158.,  39., 196., 222., 277.,  99., 196., 202., 155.,\n",
      "        77., 191.,  70.,  73.,  49.,  65., 263., 248., 296., 214., 185.,\n",
      "        78.,  93., 252., 150.,  77., 208.,  77., 108., 160.,  53., 220.,\n",
      "       154., 259.,  90., 246., 124.,  67.,  72., 257., 262., 275., 177.,\n",
      "        71.,  47., 187., 125.,  78.,  51., 258., 215., 303., 243.,  91.,\n",
      "       150., 310., 153., 346.,  63.,  89.,  50.,  39., 103., 308., 116.,\n",
      "       145.,  74.,  45., 115., 264.,  87., 202., 127., 182., 241.,  66.,\n",
      "        94., 283.,  64., 102., 200., 265.,  94., 230., 181., 156., 233.,\n",
      "        60., 219.,  80.,  68., 332., 248.,  84., 200.,  55.,  85.,  89.,\n",
      "        31., 129.,  83., 275.,  65., 198., 236., 253., 124.,  44., 172.,\n",
      "       114., 142., 109., 180., 144., 163., 147.,  97., 220., 190., 109.,\n",
      "       191., 122., 230., 242., 248., 249., 192., 131., 237.,  78., 135.,\n",
      "       244., 199., 270., 164.,  72.,  96., 306.,  91., 214.,  95., 216.,\n",
      "       263., 178., 113., 200., 139., 139.,  88., 148.,  88., 243.,  71.,\n",
      "        77., 109., 272.,  60.,  54., 221.,  90., 311., 281., 182., 321.,\n",
      "        58., 262., 206., 233., 242., 123., 167.,  63., 197.,  71., 168.,\n",
      "       140., 217., 121., 235., 245.,  40.,  52., 104., 132.,  88.,  69.,\n",
      "       219.,  72., 201., 110.,  51., 277.,  63., 118.,  69., 273., 258.,\n",
      "        43., 198., 242., 232., 175.,  93., 168., 275., 293., 281.,  72.,\n",
      "       140., 189., 181., 209., 136., 261., 113., 131., 174., 257.,  55.,\n",
      "        84.,  42., 146., 212., 233.,  91., 111., 152., 120.,  67., 310.,\n",
      "        94., 183.,  66., 173.,  72.,  49.,  64.,  48., 178., 104., 132.,\n",
      "       220.,  57.]), 'frame': None, 'DESCR': '.. _diabetes_dataset:\\n\\nDiabetes dataset\\n----------------\\n\\nTen baseline variables, age, sex, body mass index, average blood\\npressure, and six blood serum measurements were obtained for each of n =\\n442 diabetes patients, as well as the response of interest, a\\nquantitative measure of disease progression one year after baseline.\\n\\n**Data Set Characteristics:**\\n\\n  :Number of Instances: 442\\n\\n  :Number of Attributes: First 10 columns are numeric predictive values\\n\\n  :Target: Column 11 is a quantitative measure of disease progression one year after baseline\\n\\n  :Attribute Information:\\n      - age     age in years\\n      - sex\\n      - bmi     body mass index\\n      - bp      average blood pressure\\n      - s1      tc, total serum cholesterol\\n      - s2      ldl, low-density lipoproteins\\n      - s3      hdl, high-density lipoproteins\\n      - s4      tch, total cholesterol / HDL\\n      - s5      ltg, possibly log of serum triglycerides level\\n      - s6      glu, blood sugar level\\n\\nNote: Each of these 10 feature variables have been mean centered and scaled by the standard deviation times `n_samples` (i.e. the sum of squares of each column totals 1).\\n\\nSource URL:\\nhttps://www4.stat.ncsu.edu/~boos/var.select/diabetes.html\\n\\nFor more information see:\\nBradley Efron, Trevor Hastie, Iain Johnstone and Robert Tibshirani (2004) \"Least Angle Regression,\" Annals of Statistics (with discussion), 407-499.\\n(https://web.stanford.edu/~hastie/Papers/LARS/LeastAngle_2002.pdf)', 'feature_names': ['age', 'sex', 'bmi', 'bp', 's1', 's2', 's3', 's4', 's5', 's6'], 'data_filename': '/Users/zimopeng/opt/anaconda3/lib/python3.9/site-packages/sklearn/datasets/data/diabetes_data.csv.gz', 'target_filename': '/Users/zimopeng/opt/anaconda3/lib/python3.9/site-packages/sklearn/datasets/data/diabetes_target.csv.gz'}\n",
      "[[ 0.03807591  0.05068012  0.06169621 ... -0.00259226  0.01990842\n",
      "  -0.01764613]\n",
      " [-0.00188202 -0.04464164 -0.05147406 ... -0.03949338 -0.06832974\n",
      "  -0.09220405]\n",
      " [ 0.08529891  0.05068012  0.04445121 ... -0.00259226  0.00286377\n",
      "  -0.02593034]\n",
      " ...\n",
      " [-0.05637009 -0.04464164  0.09295276 ...  0.02545259  0.02605609\n",
      "   0.04034337]\n",
      " [-0.06000263  0.05068012  0.01535029 ... -0.00259226 -0.03075121\n",
      "  -0.0010777 ]\n",
      " [-0.04910502  0.05068012 -0.00512814 ...  0.07120998  0.06123791\n",
      "  -0.03835666]]\n",
      "[151.  75. 141. 206. 135.  97. 138.  63. 110. 310. 101.  69. 179. 185.\n",
      " 118. 171. 166. 144.  97. 168.  68.  49.  68. 245. 184. 202. 137.  85.\n",
      " 131. 283. 129.  59. 341.  87.  65. 102. 265. 276. 252.  90. 100.  55.\n",
      "  61.  92. 259.  53. 190. 142.  75. 142. 155. 225.  59. 104. 182. 128.\n",
      "  52.  37. 170. 170.  61. 144.  52. 128.  71. 163. 150.  97. 160. 178.\n",
      "  48. 270. 202. 111.  85.  42. 170. 200. 252. 113. 143.  51.  52. 210.\n",
      "  65. 141.  55. 134.  42. 111.  98. 164.  48.  96.  90. 162. 150. 279.\n",
      "  92.  83. 128. 102. 302. 198.  95.  53. 134. 144. 232.  81. 104.  59.\n",
      " 246. 297. 258. 229. 275. 281. 179. 200. 200. 173. 180.  84. 121. 161.\n",
      "  99. 109. 115. 268. 274. 158. 107.  83. 103. 272.  85. 280. 336. 281.\n",
      " 118. 317. 235.  60. 174. 259. 178. 128.  96. 126.]\n"
     ]
    }
   ],
   "source": []
  },
  {
   "cell_type": "code",
   "execution_count": null,
   "metadata": {},
   "outputs": [],
   "source": []
  }
 ],
 "metadata": {
  "kernelspec": {
   "display_name": "Python 3 (ipykernel)",
   "language": "python",
   "name": "python3"
  },
  "language_info": {
   "codemirror_mode": {
    "name": "ipython",
    "version": 3
   },
   "file_extension": ".py",
   "mimetype": "text/x-python",
   "name": "python",
   "nbconvert_exporter": "python",
   "pygments_lexer": "ipython3",
   "version": "3.9.7"
  }
 },
 "nbformat": 4,
 "nbformat_minor": 4
}
